{
 "cells": [
  {
   "cell_type": "markdown",
   "id": "a2cf2267-18e3-4d05-9faa-2342f17aac93",
   "metadata": {},
   "source": [
    "# Data Science Tools and Ecosystem\n",
    "In this notebook, Data Science Tools and Ecosystem are summarized. "
   ]
  },
  {
   "cell_type": "markdown",
   "id": "a54a8fae-43d4-44c2-9aa8-cd0b57d2232c",
   "metadata": {},
   "source": [
    "**Objectives:**\n",
    "* List popular languages for Data Science\n",
    "* List commonly used libraries for Data Science\n",
    "* List helpful Data Science tools\n",
    "* Evaluate arithmetic expressions using Python"
   ]
  },
  {
   "cell_type": "markdown",
   "id": "c66d5768-cfe7-4115-9406-129014c97923",
   "metadata": {},
   "source": [
    "Some of the popular languages that Data Scientists use are:\n",
    "1. Python\n",
    "2. R\n",
    "3. Scala"
   ]
  },
  {
   "cell_type": "markdown",
   "id": "cc7b747b-4d44-4076-a533-89031f4a503e",
   "metadata": {},
   "source": [
    "Some of the commonly used libraries used by Data Scientists include:\n",
    "1. Pandas\n",
    "2. Numpy\n",
    "3. Scikit-learn"
   ]
  },
  {
   "cell_type": "markdown",
   "id": "8a7a9f4d-038e-48f7-89a0-fb17963230b2",
   "metadata": {},
   "source": [
    "|Data Science Tools|\n",
    "--------------------\n",
    "|PostgreSQL        |\n",
    "|Apache Superset   |\n",
    "|Jupyter Lab       |"
   ]
  },
  {
   "cell_type": "markdown",
   "id": "69dd2069-2db1-4525-a3d7-bd2d653549f1",
   "metadata": {},
   "source": [
    "### Below are a few examples of evaluating arithmetic expressions in Python"
   ]
  },
  {
   "cell_type": "code",
   "execution_count": 4,
   "id": "8e8c1907-dc5c-4a43-b7f6-f520924a2ef5",
   "metadata": {},
   "outputs": [
    {
     "data": {
      "text/plain": [
       "17"
      ]
     },
     "execution_count": 4,
     "metadata": {},
     "output_type": "execute_result"
    }
   ],
   "source": [
    "# This a simple arithmetic expression to mutiply then add integers\n",
    "(3*4)+5"
   ]
  },
  {
   "cell_type": "code",
   "execution_count": 5,
   "id": "d04087b5-5725-4be5-8114-93dea0b1bbf8",
   "metadata": {},
   "outputs": [
    {
     "data": {
      "text/plain": [
       "3.3333333333333335"
      ]
     },
     "execution_count": 5,
     "metadata": {},
     "output_type": "execute_result"
    }
   ],
   "source": [
    "# This will convert 200 minutes to hours by diving by 60\n",
    "200/60"
   ]
  },
  {
   "cell_type": "markdown",
   "id": "b219312f-5b57-44e2-9893-77ec1ebb296a",
   "metadata": {},
   "source": [
    "## Author \n",
    "Lochlan Eaton"
   ]
  },
  {
   "cell_type": "code",
   "execution_count": null,
   "id": "0611322c-5163-49bf-a4df-994a9c57b3d5",
   "metadata": {},
   "outputs": [],
   "source": []
  }
 ],
 "metadata": {
  "kernelspec": {
   "display_name": "Python 3 (ipykernel)",
   "language": "python",
   "name": "python3"
  },
  "language_info": {
   "codemirror_mode": {
    "name": "ipython",
    "version": 3
   },
   "file_extension": ".py",
   "mimetype": "text/x-python",
   "name": "python",
   "nbconvert_exporter": "python",
   "pygments_lexer": "ipython3",
   "version": "3.11.7"
  }
 },
 "nbformat": 4,
 "nbformat_minor": 5
}
